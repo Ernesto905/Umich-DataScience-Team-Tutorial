{
 "cells": [
  {
   "cell_type": "code",
   "execution_count": 1,
   "id": "14d1b270-312f-4bf5-9f04-4c497e7c8971",
   "metadata": {},
   "outputs": [],
   "source": [
    "# Import pandas"
   ]
  },
  {
   "cell_type": "code",
   "execution_count": null,
   "id": "f2f504b2-1655-4956-91b9-811b46c5f97b",
   "metadata": {},
   "outputs": [],
   "source": []
  },
  {
   "cell_type": "code",
   "execution_count": 3,
   "id": "19b0dcf5-f4c1-42cd-bdf5-703b6f595e49",
   "metadata": {},
   "outputs": [],
   "source": [
    "# Create a pandas series of 3 students. Alice, Bob, and Cam"
   ]
  },
  {
   "cell_type": "code",
   "execution_count": null,
   "id": "20f2bc39-27e2-43bb-99c3-71707d237112",
   "metadata": {},
   "outputs": [],
   "source": []
  },
  {
   "cell_type": "code",
   "execution_count": 3,
   "id": "acce82a2-0b63-4687-b4b7-75f7eab50ca7",
   "metadata": {},
   "outputs": [],
   "source": [
    "# Create two series from two lists, one with 2 string/1None and another with 2 ints/1None.\n",
    "# Print both, what's the difference?"
   ]
  },
  {
   "cell_type": "code",
   "execution_count": null,
   "id": "affde452-1e6b-4e6f-907c-e5ed813f3600",
   "metadata": {},
   "outputs": [],
   "source": []
  },
  {
   "cell_type": "code",
   "execution_count": 4,
   "id": "3ce5d631-e4aa-41e4-86dd-7effa89d0e68",
   "metadata": {},
   "outputs": [],
   "source": [
    "# Use a conditional to check if the np nan is the same as the python native none"
   ]
  },
  {
   "cell_type": "code",
   "execution_count": null,
   "id": "631829e3-e4e4-44cd-8925-0d8a4b24ecbf",
   "metadata": {},
   "outputs": [],
   "source": []
  },
  {
   "cell_type": "code",
   "execution_count": 5,
   "id": "a382c742-1ada-4c02-a29c-c01e0d99d41c",
   "metadata": {},
   "outputs": [
    {
     "data": {
      "text/plain": [
       "\"\\nstudent_scores {\\n    'Alice': 'Physics',\\n    'Jack': 'Chemistry',\\n    'Molly': 'English'\\n}\\n\""
      ]
     },
     "execution_count": 5,
     "metadata": {},
     "output_type": "execute_result"
    }
   ],
   "source": [
    "# Create the following dictionary\n",
    "'''\n",
    "student_scores {\n",
    "    'Alice': 'Physics',\n",
    "    'Jack': 'Chemistry',\n",
    "    'Molly': 'English'\n",
    "}\n",
    "'''\n",
    "# and place it in a pandas series "
   ]
  },
  {
   "cell_type": "code",
   "execution_count": null,
   "id": "402ca8bf-960f-4681-9db9-0c5ec4bab0df",
   "metadata": {},
   "outputs": [],
   "source": []
  },
  {
   "cell_type": "code",
   "execution_count": 6,
   "id": "2faa2862-ca9b-4fb6-9829-79f630737740",
   "metadata": {},
   "outputs": [],
   "source": [
    "# Get the index of the student scores series above"
   ]
  },
  {
   "cell_type": "code",
   "execution_count": null,
   "id": "bf996b2c-32e5-4b42-b84d-36d19159a843",
   "metadata": {},
   "outputs": [],
   "source": []
  },
  {
   "cell_type": "code",
   "execution_count": 7,
   "id": "141f69e0-00ac-413c-9641-4d6c5dc656ce",
   "metadata": {},
   "outputs": [],
   "source": [
    "# Create a list of tuples with the following values\n",
    "# alice, brown\n",
    "# jack, white\n",
    "# molly, green\n",
    "# Then, turn it into a series\n",
    "# QUESTION: What kind of dtype do you think it'll be?"
   ]
  },
  {
   "cell_type": "code",
   "execution_count": null,
   "id": "9b7402f6-003f-48a6-99c5-a3539930dbca",
   "metadata": {},
   "outputs": [],
   "source": []
  },
  {
   "cell_type": "code",
   "execution_count": 8,
   "id": "597ded93-f358-4d88-87e8-15fe6bc80187",
   "metadata": {},
   "outputs": [],
   "source": [
    "# using the list of tuples above, make the names be the index column"
   ]
  },
  {
   "cell_type": "code",
   "execution_count": null,
   "id": "c266fd2e-7c11-4c18-b0c5-90aa9112ee80",
   "metadata": {},
   "outputs": [],
   "source": []
  },
  {
   "cell_type": "code",
   "execution_count": 9,
   "id": "b7da3028-5002-4395-97f7-15e5d217936f",
   "metadata": {},
   "outputs": [
    {
     "data": {
      "text/plain": [
       "\"\\nstudent_scores {\\n    'Alice': 'Physics',\\n    'Jack': 'Chemistry',\\n    'Molly': 'English'\\n}\\n\""
      ]
     },
     "execution_count": 9,
     "metadata": {},
     "output_type": "execute_result"
    }
   ],
   "source": [
    "# Create a series from the following dictionary\n",
    "\"\"\"\n",
    "student_scores {\n",
    "    'Alice': 'Physics',\n",
    "    'Jack': 'Chemistry',\n",
    "    'Molly': 'English'\n",
    "}\n",
    "\"\"\"\n",
    "# Replace Molly with Sam as the third index.\n",
    "# QUESTION: What will be the value associated with Sam? "
   ]
  },
  {
   "cell_type": "code",
   "execution_count": null,
   "id": "088080d1-0e52-4101-bbb1-305b9f7c1db2",
   "metadata": {},
   "outputs": [],
   "source": []
  },
  {
   "cell_type": "code",
   "execution_count": null,
   "id": "3128bbd9-1dae-4069-be85-4d2827c1c7be",
   "metadata": {},
   "outputs": [],
   "source": []
  }
 ],
 "metadata": {
  "kernelspec": {
   "display_name": "Python 3 (ipykernel)",
   "language": "python",
   "name": "python3"
  },
  "language_info": {
   "codemirror_mode": {
    "name": "ipython",
    "version": 3
   },
   "file_extension": ".py",
   "mimetype": "text/x-python",
   "name": "python",
   "nbconvert_exporter": "python",
   "pygments_lexer": "ipython3",
   "version": "3.9.6"
  }
 },
 "nbformat": 4,
 "nbformat_minor": 5
}
