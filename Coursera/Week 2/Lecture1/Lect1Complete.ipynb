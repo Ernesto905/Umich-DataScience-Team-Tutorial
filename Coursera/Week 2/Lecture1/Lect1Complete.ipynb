{
 "cells": [
  {
   "cell_type": "code",
   "execution_count": 1,
   "id": "a558be57-f17c-47fd-b304-5d23265086c9",
   "metadata": {},
   "outputs": [],
   "source": [
    "# Import pandas"
   ]
  },
  {
   "cell_type": "code",
   "execution_count": 1,
   "id": "d59786b0-577a-490d-a0cc-06c419a39b6a",
   "metadata": {},
   "outputs": [],
   "source": [
    "import pandas as pd"
   ]
  },
  {
   "cell_type": "code",
   "execution_count": 3,
   "id": "d26f114d-1417-4431-a8b2-2d65bcbf8896",
   "metadata": {},
   "outputs": [],
   "source": [
    "# Create a pandas series of 3 students. Alice, Bob, and Cam"
   ]
  },
  {
   "cell_type": "code",
   "execution_count": 13,
   "id": "c8224d86-dd88-4575-add4-7f3556399732",
   "metadata": {},
   "outputs": [],
   "source": [
    "students = [\"Alice\", \"Bob\", \"Cam\"]\n",
    "our_students = pd.Series(students)"
   ]
  },
  {
   "cell_type": "code",
   "execution_count": 17,
   "id": "80891886-a944-4cd9-a9eb-ca5e631f12ba",
   "metadata": {},
   "outputs": [],
   "source": [
    "# Create two lists, one with 2 string/1None and another with 2 ints/1None.\n",
    "# Print both, what's the difference?"
   ]
  },
  {
   "cell_type": "code",
   "execution_count": 18,
   "id": "329e6e94-e401-46e5-9ab0-491831e0be1c",
   "metadata": {},
   "outputs": [
    {
     "data": {
      "text/plain": [
       "(0       a\n",
       " 1       b\n",
       " 2    None\n",
       " dtype: object,\n",
       " 0    1.0\n",
       " 1    2.0\n",
       " 2    NaN\n",
       " dtype: float64)"
      ]
     },
     "execution_count": 18,
     "metadata": {},
     "output_type": "execute_result"
    }
   ],
   "source": [
    "one = pd.Series([\"a\", \"b\", None])\n",
    "two = pd.Series([1, 2, None])\n",
    "one, two"
   ]
  },
  {
   "cell_type": "code",
   "execution_count": 19,
   "id": "211438e7-cbf4-49b2-a257-f7797d92a4f8",
   "metadata": {},
   "outputs": [],
   "source": [
    "# Use a conditional to check if the np nan is the same as the python native none"
   ]
  },
  {
   "cell_type": "code",
   "execution_count": 23,
   "id": "ebdb03c1-303f-477e-97b0-1baa06103237",
   "metadata": {},
   "outputs": [
    {
     "name": "stdout",
     "output_type": "stream",
     "text": [
      "different\n"
     ]
    }
   ],
   "source": [
    "import numpy as np\n",
    "if np.nan == None:\n",
    "    print(\"same\")\n",
    "else:\n",
    "    print(\"different\")"
   ]
  },
  {
   "cell_type": "code",
   "execution_count": 27,
   "id": "f805fba7-450d-4c05-b338-1c085fed0743",
   "metadata": {},
   "outputs": [
    {
     "data": {
      "text/plain": [
       "\"\\nstudent_scores {\\n    'Alice': 'Physics',\\n    'Jack': 'Chemistry',\\n    'Molly': 'English'\\n}\\n\""
      ]
     },
     "execution_count": 27,
     "metadata": {},
     "output_type": "execute_result"
    }
   ],
   "source": [
    "# Create the following dictionary\n",
    "'''\n",
    "student_scores {\n",
    "    'Alice': 'Physics',\n",
    "    'Jack': 'Chemistry',\n",
    "    'Molly': 'English'\n",
    "}\n",
    "'''\n",
    "# and place it in a pandas series "
   ]
  },
  {
   "cell_type": "code",
   "execution_count": 29,
   "id": "d7c9f8fa-d7ba-49f9-b685-ea1e90c4e567",
   "metadata": {},
   "outputs": [
    {
     "data": {
      "text/plain": [
       "Index(['Alice', 'Jack', 'Molly'], dtype='object')"
      ]
     },
     "execution_count": 29,
     "metadata": {},
     "output_type": "execute_result"
    }
   ],
   "source": [
    "student_scores = {\n",
    "    'Alice': 'Physics',\n",
    "    'Jack': 'Chemistry',\n",
    "    'Molly': 'English'\n",
    "}\n",
    "\n",
    "s = pd.Series(student_scores)"
   ]
  },
  {
   "cell_type": "code",
   "execution_count": 30,
   "id": "a6cd99c3-c416-43f9-a768-e48b5bc79fba",
   "metadata": {},
   "outputs": [],
   "source": [
    "# Get the index of the student scores series above"
   ]
  },
  {
   "cell_type": "code",
   "execution_count": 31,
   "id": "ffa6c4f2-f4b0-4d6c-8644-790438dab6a5",
   "metadata": {},
   "outputs": [
    {
     "data": {
      "text/plain": [
       "Index(['Alice', 'Jack', 'Molly'], dtype='object')"
      ]
     },
     "execution_count": 31,
     "metadata": {},
     "output_type": "execute_result"
    }
   ],
   "source": [
    "s.index"
   ]
  },
  {
   "cell_type": "code",
   "execution_count": 40,
   "id": "0d5c4f33-78df-412a-92cf-ba93434e7582",
   "metadata": {},
   "outputs": [],
   "source": [
    "# Create a list of tuples with the following values\n",
    "# alice, brown\n",
    "# jack, white\n",
    "# molly, green\n",
    "# Then, turn it into a series\n",
    "# QUESTION: What kind of dtype do you think it'll be?"
   ]
  },
  {
   "cell_type": "code",
   "execution_count": 41,
   "id": "5df1abea-72a7-4fab-be60-e9258f1a9f1b",
   "metadata": {},
   "outputs": [
    {
     "data": {
      "text/plain": [
       "0    (alice, brown)\n",
       "1     (jack, white)\n",
       "2    (molly, green)\n",
       "dtype: object"
      ]
     },
     "execution_count": 41,
     "metadata": {},
     "output_type": "execute_result"
    }
   ],
   "source": [
    "ls = [('alice', 'brown'),('jack', 'white'), ('molly', 'green')]\n",
    "s = pd.Series(ls)\n",
    "s"
   ]
  },
  {
   "cell_type": "code",
   "execution_count": 37,
   "id": "a9d5aa03-7738-45ee-a475-ed4455a93e0c",
   "metadata": {},
   "outputs": [
    {
     "data": {
      "text/plain": [
       "tuple"
      ]
     },
     "execution_count": 37,
     "metadata": {},
     "output_type": "execute_result"
    }
   ],
   "source": [
    "# using the list of tuples above, make the names be the index column"
   ]
  },
  {
   "cell_type": "code",
   "execution_count": 42,
   "id": "85dd8286-50e5-452a-82ab-9663d15acc31",
   "metadata": {},
   "outputs": [
    {
     "data": {
      "text/plain": [
       "alice    brown\n",
       "jack     white\n",
       "molly    green\n",
       "dtype: object"
      ]
     },
     "execution_count": 42,
     "metadata": {},
     "output_type": "execute_result"
    }
   ],
   "source": [
    "s = pd.Series([i[1] for i in a], index=[i[0] for i in a])\n",
    "s"
   ]
  },
  {
   "cell_type": "code",
   "execution_count": 45,
   "id": "7dc18613-43e6-49d1-a1e9-276d6e415978",
   "metadata": {},
   "outputs": [
    {
     "data": {
      "text/plain": [
       "\"\\nstudent_scores {\\n    'Alice': 'Physics',\\n    'Jack': 'Chemistry',\\n    'Molly': 'English'\\n}\\n\""
      ]
     },
     "execution_count": 45,
     "metadata": {},
     "output_type": "execute_result"
    }
   ],
   "source": [
    "# Create a series from the following dictionary\n",
    "\"\"\"\n",
    "student_scores {\n",
    "    'Alice': 'Physics',\n",
    "    'Jack': 'Chemistry',\n",
    "    'Molly': 'English'\n",
    "}\n",
    "\"\"\"\n",
    "# Replace Molly with Sam as the third index.\n",
    "# QUESTION: What will be the value associated with Sam? "
   ]
  },
  {
   "cell_type": "code",
   "execution_count": 46,
   "id": "215a1027-d11e-4dbc-9535-75789f76b78e",
   "metadata": {},
   "outputs": [
    {
     "data": {
      "text/plain": [
       "Alice      Physics\n",
       "Jack     Chemistry\n",
       "Sam            NaN\n",
       "dtype: object"
      ]
     },
     "execution_count": 46,
     "metadata": {},
     "output_type": "execute_result"
    }
   ],
   "source": [
    "student_scores = {\n",
    "    'Alice': 'Physics',\n",
    "    'Jack': 'Chemistry',\n",
    "    'Molly': 'English'\n",
    "}\n",
    "\n",
    "s = pd.Series(student_scores, index=['Alice', 'Jack', 'Sam'])\n",
    "s"
   ]
  }
 ],
 "metadata": {
  "kernelspec": {
   "display_name": "Python 3 (ipykernel)",
   "language": "python",
   "name": "python3"
  },
  "language_info": {
   "codemirror_mode": {
    "name": "ipython",
    "version": 3
   },
   "file_extension": ".py",
   "mimetype": "text/x-python",
   "name": "python",
   "nbconvert_exporter": "python",
   "pygments_lexer": "ipython3",
   "version": "3.9.6"
  }
 },
 "nbformat": 4,
 "nbformat_minor": 5
}
