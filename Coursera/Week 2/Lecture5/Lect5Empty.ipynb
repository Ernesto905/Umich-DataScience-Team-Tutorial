{
 "cells": [
  {
   "cell_type": "code",
   "execution_count": 1,
   "id": "8f3bc70a-0c33-4c53-8423-cd95e72226e9",
   "metadata": {},
   "outputs": [],
   "source": [
    "#import pandas"
   ]
  },
  {
   "cell_type": "code",
   "execution_count": null,
   "id": "498e5b8f-c2df-437d-8277-5d519db0d723",
   "metadata": {},
   "outputs": [],
   "source": []
  },
  {
   "cell_type": "code",
   "execution_count": 2,
   "id": "85e3596f-e325-4eb9-a4eb-4de71721af0b",
   "metadata": {},
   "outputs": [],
   "source": [
    "# Read in the Admission_Predict.csv at ../../data/Admission_Predict.csv and set the index column \n",
    "# to the first column (index at 0)"
   ]
  },
  {
   "cell_type": "code",
   "execution_count": null,
   "id": "cf5ea614-31b8-445b-9d50-4dc2c181b8a3",
   "metadata": {},
   "outputs": [],
   "source": []
  },
  {
   "cell_type": "code",
   "execution_count": 3,
   "id": "fe42091f-bf3c-488b-81d6-f57b4ecfcbbc",
   "metadata": {},
   "outputs": [],
   "source": [
    "# make your way through all columns, making them all lowercase and stripping all whitespace"
   ]
  },
  {
   "cell_type": "code",
   "execution_count": null,
   "id": "d3bde405-5230-4f6b-bbb5-62b49fdd5f51",
   "metadata": {},
   "outputs": [],
   "source": []
  },
  {
   "cell_type": "code",
   "execution_count": 4,
   "id": "c88f8e21-19d0-4fd6-9870-49b16d8141a1",
   "metadata": {},
   "outputs": [],
   "source": [
    "# Create a mask for the \"chance of admit\" column. Make it mask values greater than 0.7"
   ]
  },
  {
   "cell_type": "code",
   "execution_count": null,
   "id": "5ad49447-bcaa-48d1-8fd2-e40f1a1d01b8",
   "metadata": {},
   "outputs": [],
   "source": []
  },
  {
   "cell_type": "code",
   "execution_count": 5,
   "id": "7af6c35b-ee9b-41d2-abc5-4b32af9c94cd",
   "metadata": {},
   "outputs": [],
   "source": [
    "# Using the where method \n",
    "# Use the new rating mask, lay it on top of our original dataframe and output that"
   ]
  },
  {
   "cell_type": "code",
   "execution_count": null,
   "id": "15476290-6012-4998-a9f4-3c7c2cdd2640",
   "metadata": {},
   "outputs": [],
   "source": []
  },
  {
   "cell_type": "code",
   "execution_count": 6,
   "id": "577252bb-cc59-4614-83d0-68f591631306",
   "metadata": {},
   "outputs": [],
   "source": [
    "# Do the same but this time drop the values with NaN"
   ]
  },
  {
   "cell_type": "code",
   "execution_count": null,
   "id": "babc0248-a378-4026-87c9-0790dbb9c350",
   "metadata": {},
   "outputs": [],
   "source": []
  },
  {
   "cell_type": "code",
   "execution_count": 7,
   "id": "31f1b4b8-e288-4cd0-a5e0-67400b0f6042",
   "metadata": {},
   "outputs": [],
   "source": [
    "# Use the shorthand version now to do both the where and dropna of the above"
   ]
  },
  {
   "cell_type": "code",
   "execution_count": null,
   "id": "97a5e766-8350-47f1-a4f5-970b88e19fae",
   "metadata": {},
   "outputs": [],
   "source": []
  },
  {
   "cell_type": "code",
   "execution_count": 8,
   "id": "863f999f-768a-4223-918a-57cf52355a53",
   "metadata": {},
   "outputs": [],
   "source": [
    "# Use the same [] operator to output a df with only the gre score and toefl score as columns"
   ]
  },
  {
   "cell_type": "code",
   "execution_count": null,
   "id": "9901746f-65d2-4a92-b1b9-b0f703ce32fb",
   "metadata": {},
   "outputs": [],
   "source": []
  },
  {
   "cell_type": "code",
   "execution_count": 9,
   "id": "d6a7505f-f302-4d6b-9647-a2c827868ffd",
   "metadata": {},
   "outputs": [],
   "source": [
    "# Combine boolear operators to output the df dataframe\n",
    "# where the chance of admit is over 70 percent and the toefl score is over 115"
   ]
  },
  {
   "cell_type": "code",
   "execution_count": null,
   "id": "eb4c96f7-f81d-4e12-b13b-2d2e25026e5e",
   "metadata": {},
   "outputs": [],
   "source": []
  },
  {
   "cell_type": "code",
   "execution_count": null,
   "id": "9447cc2e-4913-4a06-85dc-674bd58707b2",
   "metadata": {},
   "outputs": [],
   "source": [
    "# What is the second way to do the above, but with lt and gt. Recall the difference\n",
    "# is the no longer necessity of the parenthesis"
   ]
  }
 ],
 "metadata": {
  "kernelspec": {
   "display_name": "Python 3 (ipykernel)",
   "language": "python",
   "name": "python3"
  },
  "language_info": {
   "codemirror_mode": {
    "name": "ipython",
    "version": 3
   },
   "file_extension": ".py",
   "mimetype": "text/x-python",
   "name": "python",
   "nbconvert_exporter": "python",
   "pygments_lexer": "ipython3",
   "version": "3.9.6"
  }
 },
 "nbformat": 4,
 "nbformat_minor": 5
}
