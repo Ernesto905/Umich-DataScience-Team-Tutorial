{
 "cells": [
  {
   "cell_type": "code",
   "execution_count": 1,
   "id": "5d35d53f-17a4-4def-8809-47946f857158",
   "metadata": {},
   "outputs": [],
   "source": [
    "#Import Pandas"
   ]
  },
  {
   "cell_type": "code",
   "execution_count": null,
   "id": "f651d150-4ade-4b08-9aea-258194d4e27d",
   "metadata": {},
   "outputs": [],
   "source": []
  },
  {
   "cell_type": "code",
   "execution_count": 2,
   "id": "3d0c42a0-5263-4e98-8800-ccf7ae0d5108",
   "metadata": {},
   "outputs": [
    {
     "data": {
      "text/plain": [
       "\"\\n{\\n    'Name': 'Alice',\\n    'Class': 'Physics',\\n    'Score': 85\\n}\\n\\n{\\n    'Name': 'Jack',\\n    'Class': 'Chemistry',\\n    'Score': 82\\n}\\n\\n{\\n    'Name': 'Helen',\\n    'Class': 'Biology',\\n    'Score': 90\\n}\\n\""
      ]
     },
     "execution_count": 2,
     "metadata": {},
     "output_type": "execute_result"
    }
   ],
   "source": [
    "# Create three series with the following info\n",
    "\"\"\"\n",
    "{\n",
    "    'Name': 'Alice',\n",
    "    'Class': 'Physics',\n",
    "    'Score': 85\n",
    "}\n",
    "\n",
    "{\n",
    "    'Name': 'Jack',\n",
    "    'Class': 'Chemistry',\n",
    "    'Score': 82\n",
    "}\n",
    "\n",
    "{\n",
    "    'Name': 'Helen',\n",
    "    'Class': 'Biology',\n",
    "    'Score': 90\n",
    "}\n",
    "\"\"\"\n",
    "# Then, pass in all 3 series into a new dataframe with the indices set as\n",
    "# school1, school2, school1"
   ]
  },
  {
   "cell_type": "code",
   "execution_count": null,
   "id": "c9f9e950-12bc-433d-9ff9-b107202d517e",
   "metadata": {},
   "outputs": [],
   "source": []
  },
  {
   "cell_type": "code",
   "execution_count": 3,
   "id": "cf146224-6d3f-4ba9-b403-75ae280ae580",
   "metadata": {},
   "outputs": [],
   "source": [
    "# Do the same as above, but inject the values straight into the dataframe"
   ]
  },
  {
   "cell_type": "code",
   "execution_count": null,
   "id": "291b9215-d9b8-4b3d-a034-4b1b0c0642c3",
   "metadata": {},
   "outputs": [],
   "source": []
  },
  {
   "cell_type": "code",
   "execution_count": 4,
   "id": "c87c4dda-3cdf-4fef-a60c-c7052296cf57",
   "metadata": {},
   "outputs": [],
   "source": [
    "# Return the second entry, School2, as a series\n",
    "# QUESTION: If you do the same with School1, what would you get back and why?"
   ]
  },
  {
   "cell_type": "code",
   "execution_count": null,
   "id": "fdc9cb56-1189-46aa-92c5-700e09e7cf06",
   "metadata": {},
   "outputs": [],
   "source": []
  },
  {
   "cell_type": "code",
   "execution_count": 5,
   "id": "a1ed38b0-4e3d-4e60-a83b-c54cd0cb48f9",
   "metadata": {},
   "outputs": [],
   "source": [
    "# Turn all the rows into columns and all the columns into rows in our previous \n",
    "# Data frame"
   ]
  },
  {
   "cell_type": "code",
   "execution_count": null,
   "id": "632b7bac-ff65-4796-baf2-ec7e60f8d4d1",
   "metadata": {},
   "outputs": [],
   "source": []
  },
  {
   "cell_type": "code",
   "execution_count": 6,
   "id": "b8cbec1a-021c-4965-91c1-4e6f456e6bbc",
   "metadata": {},
   "outputs": [],
   "source": [
    "# Using the data frame above, extract all the names in school1 using chaining\n",
    "# QUESTION: What would the same command look like for school2 and why"
   ]
  },
  {
   "cell_type": "code",
   "execution_count": null,
   "id": "b4873e42-e090-43e0-81b0-2c5dd5c990ca",
   "metadata": {},
   "outputs": [],
   "source": []
  },
  {
   "cell_type": "code",
   "execution_count": 7,
   "id": "b8575207-a95b-4839-a5ac-1204fc7a86cc",
   "metadata": {},
   "outputs": [],
   "source": [
    "# Get all the names and scores for all schools using the loc attribute as a DF, \n",
    "# without chaining\n",
    "# Hint: How would you get every value inside a [] operator? "
   ]
  },
  {
   "cell_type": "code",
   "execution_count": 34,
   "id": "8a3c0ae4-b2fa-429e-a077-cfd7fa0381f4",
   "metadata": {},
   "outputs": [
    {
     "data": {
      "text/html": [
       "<div>\n",
       "<style scoped>\n",
       "    .dataframe tbody tr th:only-of-type {\n",
       "        vertical-align: middle;\n",
       "    }\n",
       "\n",
       "    .dataframe tbody tr th {\n",
       "        vertical-align: top;\n",
       "    }\n",
       "\n",
       "    .dataframe thead th {\n",
       "        text-align: right;\n",
       "    }\n",
       "</style>\n",
       "<table border=\"1\" class=\"dataframe\">\n",
       "  <thead>\n",
       "    <tr style=\"text-align: right;\">\n",
       "      <th></th>\n",
       "      <th>Name</th>\n",
       "      <th>Score</th>\n",
       "    </tr>\n",
       "  </thead>\n",
       "  <tbody>\n",
       "    <tr>\n",
       "      <th>school1</th>\n",
       "      <td>Alice</td>\n",
       "      <td>85</td>\n",
       "    </tr>\n",
       "    <tr>\n",
       "      <th>school2</th>\n",
       "      <td>Jack</td>\n",
       "      <td>82</td>\n",
       "    </tr>\n",
       "    <tr>\n",
       "      <th>school1</th>\n",
       "      <td>Helen</td>\n",
       "      <td>90</td>\n",
       "    </tr>\n",
       "  </tbody>\n",
       "</table>\n",
       "</div>"
      ],
      "text/plain": [
       "          Name  Score\n",
       "school1  Alice     85\n",
       "school2   Jack     82\n",
       "school1  Helen     90"
      ]
     },
     "execution_count": 34,
     "metadata": {},
     "output_type": "execute_result"
    }
   ],
   "source": []
  },
  {
   "cell_type": "code",
   "execution_count": 8,
   "id": "b702341f-5202-4c5e-86a0-8cd09d7bae49",
   "metadata": {},
   "outputs": [],
   "source": [
    "# Using the appropriate methods\n",
    "# Make a copy of our data frame\n",
    "# Then, drop school1 in that copy"
   ]
  },
  {
   "cell_type": "code",
   "execution_count": 39,
   "id": "d0d62996-3410-4649-b40d-0d0bba3efa62",
   "metadata": {},
   "outputs": [],
   "source": []
  },
  {
   "cell_type": "code",
   "execution_count": 9,
   "id": "d804a7cb-996f-47de-b164-03204571b9d3",
   "metadata": {},
   "outputs": [],
   "source": [
    "# Let's do the same, with a second copy.\n",
    "# This time, drop the name column, both in the copy, and in the original\n",
    "# Do both drops in the same line"
   ]
  },
  {
   "cell_type": "code",
   "execution_count": 42,
   "id": "3d1aa54f-da56-493f-815f-27d0558dbde7",
   "metadata": {},
   "outputs": [],
   "source": []
  },
  {
   "cell_type": "code",
   "execution_count": 10,
   "id": "9ad6f0d5-e1ac-4bc9-89c4-3182026b648b",
   "metadata": {},
   "outputs": [],
   "source": [
    "# Drop the class column in our original dataframe using the del keywork"
   ]
  },
  {
   "cell_type": "code",
   "execution_count": 44,
   "id": "d3b41a9e-01cf-4714-8b16-3f2042b9ff17",
   "metadata": {},
   "outputs": [
    {
     "data": {
      "text/html": [
       "<div>\n",
       "<style scoped>\n",
       "    .dataframe tbody tr th:only-of-type {\n",
       "        vertical-align: middle;\n",
       "    }\n",
       "\n",
       "    .dataframe tbody tr th {\n",
       "        vertical-align: top;\n",
       "    }\n",
       "\n",
       "    .dataframe thead th {\n",
       "        text-align: right;\n",
       "    }\n",
       "</style>\n",
       "<table border=\"1\" class=\"dataframe\">\n",
       "  <thead>\n",
       "    <tr style=\"text-align: right;\">\n",
       "      <th></th>\n",
       "      <th>Score</th>\n",
       "    </tr>\n",
       "  </thead>\n",
       "  <tbody>\n",
       "    <tr>\n",
       "      <th>school1</th>\n",
       "      <td>85</td>\n",
       "    </tr>\n",
       "    <tr>\n",
       "      <th>school2</th>\n",
       "      <td>82</td>\n",
       "    </tr>\n",
       "    <tr>\n",
       "      <th>school1</th>\n",
       "      <td>90</td>\n",
       "    </tr>\n",
       "  </tbody>\n",
       "</table>\n",
       "</div>"
      ],
      "text/plain": [
       "         Score\n",
       "school1     85\n",
       "school2     82\n",
       "school1     90"
      ]
     },
     "execution_count": 44,
     "metadata": {},
     "output_type": "execute_result"
    }
   ],
   "source": []
  },
  {
   "cell_type": "code",
   "execution_count": 45,
   "id": "8aea0347-83cf-40cf-b59b-087e4f969f02",
   "metadata": {},
   "outputs": [],
   "source": [
    "# Add a new column to our original dataframe. call it Class ranking and set it to none"
   ]
  },
  {
   "cell_type": "code",
   "execution_count": 46,
   "id": "b8cba1a8-3f67-4b40-8e0b-452adc259ad0",
   "metadata": {},
   "outputs": [],
   "source": []
  },
  {
   "cell_type": "code",
   "execution_count": null,
   "id": "79f0300a-4808-47a8-923d-0c354bb7d0c5",
   "metadata": {},
   "outputs": [],
   "source": []
  }
 ],
 "metadata": {
  "kernelspec": {
   "display_name": "Python 3 (ipykernel)",
   "language": "python",
   "name": "python3"
  },
  "language_info": {
   "codemirror_mode": {
    "name": "ipython",
    "version": 3
   },
   "file_extension": ".py",
   "mimetype": "text/x-python",
   "name": "python",
   "nbconvert_exporter": "python",
   "pygments_lexer": "ipython3",
   "version": "3.9.6"
  }
 },
 "nbformat": 4,
 "nbformat_minor": 5
}
