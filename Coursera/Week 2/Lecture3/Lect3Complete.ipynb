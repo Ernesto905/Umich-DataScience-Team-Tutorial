{
 "cells": [
  {
   "cell_type": "code",
   "execution_count": 2,
   "id": "85db8d22-a278-4f0a-afe8-86f84d45021d",
   "metadata": {},
   "outputs": [],
   "source": [
    "#Import Pandas"
   ]
  },
  {
   "cell_type": "code",
   "execution_count": 72,
   "id": "4b6d0a6f-6b9f-4eef-8239-fb88a5a996ae",
   "metadata": {},
   "outputs": [],
   "source": [
    "import pandas as pd"
   ]
  },
  {
   "cell_type": "code",
   "execution_count": 73,
   "id": "54d03e3a-667e-4f41-a358-e6dcf64a27c5",
   "metadata": {},
   "outputs": [
    {
     "data": {
      "text/plain": [
       "\"\\n{\\n    'Name': 'Alice',\\n    'Class': 'Physics',\\n    'Score': 85\\n}\\n\\n{\\n    'Name': 'Jack',\\n    'Class': 'Chemistry',\\n    'Score': 82\\n}\\n\\n{\\n    'Name': 'Helen',\\n    'Class': 'Biology',\\n    'Score': 90\\n}\\n\""
      ]
     },
     "execution_count": 73,
     "metadata": {},
     "output_type": "execute_result"
    }
   ],
   "source": [
    "# Create three series with the following info\n",
    "\"\"\"\n",
    "{\n",
    "    'Name': 'Alice',\n",
    "    'Class': 'Physics',\n",
    "    'Score': 85\n",
    "}\n",
    "\n",
    "{\n",
    "    'Name': 'Jack',\n",
    "    'Class': 'Chemistry',\n",
    "    'Score': 82\n",
    "}\n",
    "\n",
    "{\n",
    "    'Name': 'Helen',\n",
    "    'Class': 'Biology',\n",
    "    'Score': 90\n",
    "}\n",
    "\"\"\"\n",
    "# Then, pass in all 3 series into a new dataframe with the indices set as\n",
    "# school1, school2, school1"
   ]
  },
  {
   "cell_type": "code",
   "execution_count": 74,
   "id": "3ff5a971-4227-490d-8872-ef38b3a7b888",
   "metadata": {},
   "outputs": [
    {
     "data": {
      "text/html": [
       "<div>\n",
       "<style scoped>\n",
       "    .dataframe tbody tr th:only-of-type {\n",
       "        vertical-align: middle;\n",
       "    }\n",
       "\n",
       "    .dataframe tbody tr th {\n",
       "        vertical-align: top;\n",
       "    }\n",
       "\n",
       "    .dataframe thead th {\n",
       "        text-align: right;\n",
       "    }\n",
       "</style>\n",
       "<table border=\"1\" class=\"dataframe\">\n",
       "  <thead>\n",
       "    <tr style=\"text-align: right;\">\n",
       "      <th></th>\n",
       "      <th>Name</th>\n",
       "      <th>Class</th>\n",
       "      <th>Score</th>\n",
       "    </tr>\n",
       "  </thead>\n",
       "  <tbody>\n",
       "    <tr>\n",
       "      <th>school1</th>\n",
       "      <td>Alice</td>\n",
       "      <td>Physics</td>\n",
       "      <td>85</td>\n",
       "    </tr>\n",
       "    <tr>\n",
       "      <th>school2</th>\n",
       "      <td>Jack</td>\n",
       "      <td>Chemistry</td>\n",
       "      <td>82</td>\n",
       "    </tr>\n",
       "    <tr>\n",
       "      <th>school1</th>\n",
       "      <td>Helen</td>\n",
       "      <td>Biology</td>\n",
       "      <td>90</td>\n",
       "    </tr>\n",
       "  </tbody>\n",
       "</table>\n",
       "</div>"
      ],
      "text/plain": [
       "          Name      Class  Score\n",
       "school1  Alice    Physics     85\n",
       "school2   Jack  Chemistry     82\n",
       "school1  Helen    Biology     90"
      ]
     },
     "execution_count": 74,
     "metadata": {},
     "output_type": "execute_result"
    }
   ],
   "source": [
    "s1 = pd.Series({\n",
    "    'Name': 'Alice',\n",
    "    'Class': 'Physics',\n",
    "    'Score': 85\n",
    "})\n",
    "\n",
    "s2 = pd.Series({\n",
    "    'Name': 'Jack',\n",
    "    'Class': 'Chemistry',\n",
    "    'Score': 82\n",
    "})\n",
    "\n",
    "s3 = pd.Series({\n",
    "    'Name': 'Helen',\n",
    "    'Class': 'Biology',\n",
    "    'Score': 90\n",
    "})\n",
    "\n",
    "df = pd.DataFrame([s1, s2, s3], index=[\"school1\", \"school2\", \"school1\"])\n",
    "df"
   ]
  },
  {
   "cell_type": "code",
   "execution_count": 75,
   "id": "33226a36-15d3-4242-b39e-b81aaf6e03c8",
   "metadata": {},
   "outputs": [],
   "source": [
    "# Do the same as above, but inject the values straight into the dataframe"
   ]
  },
  {
   "cell_type": "code",
   "execution_count": 76,
   "id": "52873f5a-852d-48e8-a834-6abef51c2fb4",
   "metadata": {},
   "outputs": [
    {
     "data": {
      "text/html": [
       "<div>\n",
       "<style scoped>\n",
       "    .dataframe tbody tr th:only-of-type {\n",
       "        vertical-align: middle;\n",
       "    }\n",
       "\n",
       "    .dataframe tbody tr th {\n",
       "        vertical-align: top;\n",
       "    }\n",
       "\n",
       "    .dataframe thead th {\n",
       "        text-align: right;\n",
       "    }\n",
       "</style>\n",
       "<table border=\"1\" class=\"dataframe\">\n",
       "  <thead>\n",
       "    <tr style=\"text-align: right;\">\n",
       "      <th></th>\n",
       "      <th>Name</th>\n",
       "      <th>Class</th>\n",
       "      <th>Score</th>\n",
       "    </tr>\n",
       "  </thead>\n",
       "  <tbody>\n",
       "    <tr>\n",
       "      <th>School1</th>\n",
       "      <td>Alice</td>\n",
       "      <td>Physics</td>\n",
       "      <td>85</td>\n",
       "    </tr>\n",
       "    <tr>\n",
       "      <th>School2</th>\n",
       "      <td>Jack</td>\n",
       "      <td>Chemistry</td>\n",
       "      <td>82</td>\n",
       "    </tr>\n",
       "    <tr>\n",
       "      <th>School1</th>\n",
       "      <td>Helen</td>\n",
       "      <td>Biology</td>\n",
       "      <td>90</td>\n",
       "    </tr>\n",
       "  </tbody>\n",
       "</table>\n",
       "</div>"
      ],
      "text/plain": [
       "          Name      Class  Score\n",
       "School1  Alice    Physics     85\n",
       "School2   Jack  Chemistry     82\n",
       "School1  Helen    Biology     90"
      ]
     },
     "execution_count": 76,
     "metadata": {},
     "output_type": "execute_result"
    }
   ],
   "source": [
    "df = pd.DataFrame([{\n",
    "    'Name': 'Alice',\n",
    "    'Class': 'Physics',\n",
    "    'Score': 85\n",
    "}, {\n",
    "    'Name': 'Jack',\n",
    "    'Class': 'Chemistry',\n",
    "    'Score': 82\n",
    "}, {\n",
    "    'Name': 'Helen',\n",
    "    'Class': 'Biology',\n",
    "    'Score': 90\n",
    "}], index=[\"School1\", \"School2\", \"School1\"])\n",
    "df"
   ]
  },
  {
   "cell_type": "code",
   "execution_count": 77,
   "id": "1af3b484-d28a-42c8-b884-8673e7e97ddf",
   "metadata": {},
   "outputs": [],
   "source": [
    "# Return the second entry, School2, as a series\n",
    "# QUESTION: If you do the same with School1, what would you get back and why?"
   ]
  },
  {
   "cell_type": "code",
   "execution_count": 78,
   "id": "17901c73-817a-4bea-bd22-58c972466300",
   "metadata": {},
   "outputs": [
    {
     "data": {
      "text/plain": [
       "Name          Jack\n",
       "Class    Chemistry\n",
       "Score           82\n",
       "Name: School2, dtype: object"
      ]
     },
     "execution_count": 78,
     "metadata": {},
     "output_type": "execute_result"
    }
   ],
   "source": [
    "df.loc['School2']\n",
    "# You would get back a data frame since there are two entries \n",
    "# which use the school1 entry"
   ]
  },
  {
   "cell_type": "code",
   "execution_count": 79,
   "id": "986dd916-04bb-4eca-a945-e6eb37f2aa33",
   "metadata": {},
   "outputs": [],
   "source": [
    "# Turn all the rows into columns and all the columns into rows in our previous \n",
    "# Data frame"
   ]
  },
  {
   "cell_type": "code",
   "execution_count": 104,
   "id": "d67b2635-51a7-4ec8-acb6-e562428d3383",
   "metadata": {},
   "outputs": [
    {
     "data": {
      "text/html": [
       "<div>\n",
       "<style scoped>\n",
       "    .dataframe tbody tr th:only-of-type {\n",
       "        vertical-align: middle;\n",
       "    }\n",
       "\n",
       "    .dataframe tbody tr th {\n",
       "        vertical-align: top;\n",
       "    }\n",
       "\n",
       "    .dataframe thead th {\n",
       "        text-align: right;\n",
       "    }\n",
       "</style>\n",
       "<table border=\"1\" class=\"dataframe\">\n",
       "  <thead>\n",
       "    <tr style=\"text-align: right;\">\n",
       "      <th></th>\n",
       "      <th>School1</th>\n",
       "      <th>School2</th>\n",
       "      <th>School1</th>\n",
       "    </tr>\n",
       "  </thead>\n",
       "  <tbody>\n",
       "    <tr>\n",
       "      <th>Score</th>\n",
       "      <td>85</td>\n",
       "      <td>82</td>\n",
       "      <td>90</td>\n",
       "    </tr>\n",
       "    <tr>\n",
       "      <th>Class ranking</th>\n",
       "      <td>None</td>\n",
       "      <td>None</td>\n",
       "      <td>None</td>\n",
       "    </tr>\n",
       "  </tbody>\n",
       "</table>\n",
       "</div>"
      ],
      "text/plain": [
       "              School1 School2 School1\n",
       "Score              85      82      90\n",
       "Class ranking    None    None    None"
      ]
     },
     "execution_count": 104,
     "metadata": {},
     "output_type": "execute_result"
    }
   ],
   "source": [
    "df.T"
   ]
  },
  {
   "cell_type": "code",
   "execution_count": 81,
   "id": "f10425f6-f641-4924-866c-872a33da5f7f",
   "metadata": {},
   "outputs": [],
   "source": [
    "# Using the data frame above, extract all the names in school1 using chaining\n",
    "# QUESTION: What would the same command look like for school2 and why"
   ]
  },
  {
   "cell_type": "code",
   "execution_count": 82,
   "id": "bb1a5894-7320-46ac-b7a3-477794a5a5bd",
   "metadata": {},
   "outputs": [
    {
     "data": {
      "text/plain": [
       "School1    Alice\n",
       "School1    Helen\n",
       "Name: Name, dtype: object"
      ]
     },
     "execution_count": 82,
     "metadata": {},
     "output_type": "execute_result"
    }
   ],
   "source": [
    "df.loc['School1']['Name']\n",
    "# It would look like just \"jack\", since there is only one name in school2"
   ]
  },
  {
   "cell_type": "code",
   "execution_count": 83,
   "id": "415e8b0f-6c31-417a-be52-e9388a2bbe9e",
   "metadata": {},
   "outputs": [],
   "source": [
    "# Get all the names and scores for all schools using the loc attribute as a DF, \n",
    "# without chaining\n",
    "# Hint: How would you get every value inside a [] operator? "
   ]
  },
  {
   "cell_type": "code",
   "execution_count": 84,
   "id": "041b76a2-4320-4112-b973-20f6c433cd98",
   "metadata": {},
   "outputs": [
    {
     "data": {
      "text/html": [
       "<div>\n",
       "<style scoped>\n",
       "    .dataframe tbody tr th:only-of-type {\n",
       "        vertical-align: middle;\n",
       "    }\n",
       "\n",
       "    .dataframe tbody tr th {\n",
       "        vertical-align: top;\n",
       "    }\n",
       "\n",
       "    .dataframe thead th {\n",
       "        text-align: right;\n",
       "    }\n",
       "</style>\n",
       "<table border=\"1\" class=\"dataframe\">\n",
       "  <thead>\n",
       "    <tr style=\"text-align: right;\">\n",
       "      <th></th>\n",
       "      <th>Name</th>\n",
       "      <th>Score</th>\n",
       "    </tr>\n",
       "  </thead>\n",
       "  <tbody>\n",
       "    <tr>\n",
       "      <th>School1</th>\n",
       "      <td>Alice</td>\n",
       "      <td>85</td>\n",
       "    </tr>\n",
       "    <tr>\n",
       "      <th>School2</th>\n",
       "      <td>Jack</td>\n",
       "      <td>82</td>\n",
       "    </tr>\n",
       "    <tr>\n",
       "      <th>School1</th>\n",
       "      <td>Helen</td>\n",
       "      <td>90</td>\n",
       "    </tr>\n",
       "  </tbody>\n",
       "</table>\n",
       "</div>"
      ],
      "text/plain": [
       "          Name  Score\n",
       "School1  Alice     85\n",
       "School2   Jack     82\n",
       "School1  Helen     90"
      ]
     },
     "execution_count": 84,
     "metadata": {},
     "output_type": "execute_result"
    }
   ],
   "source": [
    "df.loc[:, [\"Name\", \"Score\"]]"
   ]
  },
  {
   "cell_type": "code",
   "execution_count": 85,
   "id": "8372755b-6d30-41fc-93df-c01b64f86270",
   "metadata": {},
   "outputs": [],
   "source": [
    "# Using the appropriate methods\n",
    "# Make a copy of our data frame\n",
    "# Then, drop school1 in that copy"
   ]
  },
  {
   "cell_type": "code",
   "execution_count": 86,
   "id": "0a13f537-a621-406f-b5c9-395fa5f2b8dd",
   "metadata": {},
   "outputs": [
    {
     "data": {
      "text/html": [
       "<div>\n",
       "<style scoped>\n",
       "    .dataframe tbody tr th:only-of-type {\n",
       "        vertical-align: middle;\n",
       "    }\n",
       "\n",
       "    .dataframe tbody tr th {\n",
       "        vertical-align: top;\n",
       "    }\n",
       "\n",
       "    .dataframe thead th {\n",
       "        text-align: right;\n",
       "    }\n",
       "</style>\n",
       "<table border=\"1\" class=\"dataframe\">\n",
       "  <thead>\n",
       "    <tr style=\"text-align: right;\">\n",
       "      <th></th>\n",
       "      <th>Name</th>\n",
       "      <th>Class</th>\n",
       "      <th>Score</th>\n",
       "    </tr>\n",
       "  </thead>\n",
       "  <tbody>\n",
       "    <tr>\n",
       "      <th>School2</th>\n",
       "      <td>Jack</td>\n",
       "      <td>Chemistry</td>\n",
       "      <td>82</td>\n",
       "    </tr>\n",
       "  </tbody>\n",
       "</table>\n",
       "</div>"
      ],
      "text/plain": [
       "         Name      Class  Score\n",
       "School2  Jack  Chemistry     82"
      ]
     },
     "execution_count": 86,
     "metadata": {},
     "output_type": "execute_result"
    }
   ],
   "source": [
    "df_copy = df.copy()\n",
    "df_copy = df_copy.drop(\"School1\")\n",
    "df_copy"
   ]
  },
  {
   "cell_type": "code",
   "execution_count": 89,
   "id": "72db6092-726e-4c25-94a5-d07607655f53",
   "metadata": {},
   "outputs": [
    {
     "data": {
      "text/plain": [
       "(             Class  Score\n",
       " School1    Physics     85\n",
       " School2  Chemistry     82\n",
       " School1    Biology     90,\n",
       " None)"
      ]
     },
     "execution_count": 89,
     "metadata": {},
     "output_type": "execute_result"
    }
   ],
   "source": [
    "# Let's do the same, with a second copy.\n",
    "# This time, drop the name column, both in the copy, and in the original\n",
    "# Do both drops in the same line\n",
    "df_copy2 = df.copy()\n",
    "df_copy2 = df.drop(\"Name\", inplace=True, axis=1)\n",
    "df, df_copy2"
   ]
  },
  {
   "cell_type": "code",
   "execution_count": 96,
   "id": "83d4276f-31c8-47bd-a991-11bc4a0bc828",
   "metadata": {},
   "outputs": [],
   "source": [
    "# Drop the class column in our original dataframe using the del keywork"
   ]
  },
  {
   "cell_type": "code",
   "execution_count": 97,
   "id": "a4108775-ff78-48e5-9922-e71c0c688664",
   "metadata": {},
   "outputs": [],
   "source": [
    "del df[\"Class\"]"
   ]
  },
  {
   "cell_type": "code",
   "execution_count": 99,
   "id": "5b0e3545-2d57-4688-8756-0313e7010c68",
   "metadata": {},
   "outputs": [],
   "source": [
    "# Add a new column to our original dataframe. call it Class ranking and set it to none"
   ]
  },
  {
   "cell_type": "code",
   "execution_count": 102,
   "id": "aa2d9220-0e9a-4f75-8f73-c97b6328a8ce",
   "metadata": {},
   "outputs": [
    {
     "data": {
      "text/html": [
       "<div>\n",
       "<style scoped>\n",
       "    .dataframe tbody tr th:only-of-type {\n",
       "        vertical-align: middle;\n",
       "    }\n",
       "\n",
       "    .dataframe tbody tr th {\n",
       "        vertical-align: top;\n",
       "    }\n",
       "\n",
       "    .dataframe thead th {\n",
       "        text-align: right;\n",
       "    }\n",
       "</style>\n",
       "<table border=\"1\" class=\"dataframe\">\n",
       "  <thead>\n",
       "    <tr style=\"text-align: right;\">\n",
       "      <th></th>\n",
       "      <th>Score</th>\n",
       "      <th>Class ranking</th>\n",
       "    </tr>\n",
       "  </thead>\n",
       "  <tbody>\n",
       "    <tr>\n",
       "      <th>School1</th>\n",
       "      <td>85</td>\n",
       "      <td>None</td>\n",
       "    </tr>\n",
       "    <tr>\n",
       "      <th>School2</th>\n",
       "      <td>82</td>\n",
       "      <td>None</td>\n",
       "    </tr>\n",
       "    <tr>\n",
       "      <th>School1</th>\n",
       "      <td>90</td>\n",
       "      <td>None</td>\n",
       "    </tr>\n",
       "  </tbody>\n",
       "</table>\n",
       "</div>"
      ],
      "text/plain": [
       "         Score Class ranking\n",
       "School1     85          None\n",
       "School2     82          None\n",
       "School1     90          None"
      ]
     },
     "execution_count": 102,
     "metadata": {},
     "output_type": "execute_result"
    }
   ],
   "source": [
    "df[\"Class ranking\"] = None\n",
    "df"
   ]
  },
  {
   "cell_type": "code",
   "execution_count": 101,
   "id": "3209e894-bdfc-4055-9d97-b902cc865cfa",
   "metadata": {},
   "outputs": [
    {
     "data": {
      "text/html": [
       "<div>\n",
       "<style scoped>\n",
       "    .dataframe tbody tr th:only-of-type {\n",
       "        vertical-align: middle;\n",
       "    }\n",
       "\n",
       "    .dataframe tbody tr th {\n",
       "        vertical-align: top;\n",
       "    }\n",
       "\n",
       "    .dataframe thead th {\n",
       "        text-align: right;\n",
       "    }\n",
       "</style>\n",
       "<table border=\"1\" class=\"dataframe\">\n",
       "  <thead>\n",
       "    <tr style=\"text-align: right;\">\n",
       "      <th></th>\n",
       "      <th>Score</th>\n",
       "      <th>Class ranking</th>\n",
       "    </tr>\n",
       "  </thead>\n",
       "  <tbody>\n",
       "    <tr>\n",
       "      <th>School1</th>\n",
       "      <td>85</td>\n",
       "      <td>None</td>\n",
       "    </tr>\n",
       "    <tr>\n",
       "      <th>School2</th>\n",
       "      <td>82</td>\n",
       "      <td>None</td>\n",
       "    </tr>\n",
       "    <tr>\n",
       "      <th>School1</th>\n",
       "      <td>90</td>\n",
       "      <td>None</td>\n",
       "    </tr>\n",
       "  </tbody>\n",
       "</table>\n",
       "</div>"
      ],
      "text/plain": [
       "         Score Class ranking\n",
       "School1     85          None\n",
       "School2     82          None\n",
       "School1     90          None"
      ]
     },
     "execution_count": 101,
     "metadata": {},
     "output_type": "execute_result"
    }
   ],
   "source": []
  },
  {
   "cell_type": "code",
   "execution_count": null,
   "id": "e181be6e-8ee0-4c4b-bc2d-64c9e2360ece",
   "metadata": {},
   "outputs": [],
   "source": []
  }
 ],
 "metadata": {
  "kernelspec": {
   "display_name": "Python 3 (ipykernel)",
   "language": "python",
   "name": "python3"
  },
  "language_info": {
   "codemirror_mode": {
    "name": "ipython",
    "version": 3
   },
   "file_extension": ".py",
   "mimetype": "text/x-python",
   "name": "python",
   "nbconvert_exporter": "python",
   "pygments_lexer": "ipython3",
   "version": "3.9.6"
  }
 },
 "nbformat": 4,
 "nbformat_minor": 5
}
