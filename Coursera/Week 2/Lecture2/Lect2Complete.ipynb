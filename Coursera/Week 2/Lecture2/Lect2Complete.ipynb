{
 "cells": [
  {
   "cell_type": "code",
   "execution_count": 1,
   "id": "12bd48ca-27d8-4d5f-8d65-9a5175a65667",
   "metadata": {},
   "outputs": [],
   "source": [
    "#Import pandas"
   ]
  },
  {
   "cell_type": "code",
   "execution_count": 2,
   "id": "1baf0196-7417-4177-905e-c465266ad2ce",
   "metadata": {},
   "outputs": [],
   "source": [
    "import pandas as pd"
   ]
  },
  {
   "cell_type": "code",
   "execution_count": 3,
   "id": "f24c9e43-d14a-45d4-ac4c-b63cbe1cd8d3",
   "metadata": {},
   "outputs": [
    {
     "data": {
      "text/plain": [
       "\"\\nstudent_scores {\\n    'Alice': 'Physics',\\n    'Jack': 'Chemistry',\\n    'Molly': 'English',\\n    'Sam': 'History'\\n}\\n\""
      ]
     },
     "execution_count": 3,
     "metadata": {},
     "output_type": "execute_result"
    }
   ],
   "source": [
    "# Create the following dictionary\n",
    "'''\n",
    "student_classes {\n",
    "    'Alice': 'Physics',\n",
    "    'Jack': 'Chemistry',\n",
    "    'Molly': 'English',\n",
    "    'Sam': 'History'\n",
    "}\n",
    "'''\n",
    "# and place it in a pandas series "
   ]
  },
  {
   "cell_type": "code",
   "execution_count": 5,
   "id": "8a7809ea-484a-4b73-a9fb-94a263a0543d",
   "metadata": {},
   "outputs": [
    {
     "data": {
      "text/plain": [
       "Alice      Physics\n",
       "Jack     Chemistry\n",
       "Molly      English\n",
       "Sam        History\n",
       "dtype: object"
      ]
     },
     "execution_count": 5,
     "metadata": {},
     "output_type": "execute_result"
    }
   ],
   "source": [
    "student_classes = {\n",
    "    'Alice': 'Physics',\n",
    "    'Jack': 'Chemistry',\n",
    "    'Molly': 'English',\n",
    "    'Sam': 'History'\n",
    "}\n",
    "s = pd.Series(student_classes)\n",
    "s"
   ]
  },
  {
   "cell_type": "code",
   "execution_count": 8,
   "id": "270b692d-8cb8-4779-9b3b-bbaebea560ba",
   "metadata": {},
   "outputs": [],
   "source": [
    "# index into the fourth entry in the series above, using an integer. You should print 'History'"
   ]
  },
  {
   "cell_type": "code",
   "execution_count": 9,
   "id": "84fadfc4-ed6e-4e99-8a71-c239d80eb3f9",
   "metadata": {},
   "outputs": [
    {
     "data": {
      "text/plain": [
       "'History'"
      ]
     },
     "execution_count": 9,
     "metadata": {},
     "output_type": "execute_result"
    }
   ],
   "source": [
    "s.iloc[3]"
   ]
  },
  {
   "cell_type": "code",
   "execution_count": 10,
   "id": "c73db797-1307-4684-8335-20b136848c5e",
   "metadata": {},
   "outputs": [],
   "source": [
    "# index into Molly's attribute"
   ]
  },
  {
   "cell_type": "code",
   "execution_count": 11,
   "id": "7257ce73-be68-4478-959e-ddbe96a71d8a",
   "metadata": {},
   "outputs": [
    {
     "data": {
      "text/plain": [
       "'English'"
      ]
     },
     "execution_count": 11,
     "metadata": {},
     "output_type": "execute_result"
    }
   ],
   "source": [
    "s.loc['Molly']"
   ]
  },
  {
   "cell_type": "code",
   "execution_count": 13,
   "id": "f3411cc7-217c-4fd5-a5f8-832fd2a79a3e",
   "metadata": {},
   "outputs": [
    {
     "data": {
      "text/plain": [
       "'\\nclass_code {\\n    99: \"Physics\",\\n    100: \"Chemistry\",\\n    101: \"English\",\\n    102: \"History\"\\n}\\n'"
      ]
     },
     "execution_count": 13,
     "metadata": {},
     "output_type": "execute_result"
    }
   ],
   "source": [
    "# Create the following dictionary\n",
    "\"\"\"\n",
    "class_code {\n",
    "    99: \"Physics\",\n",
    "    100: \"Chemistry\",\n",
    "    101: \"English\",\n",
    "    102: \"History\"\n",
    "}\n",
    "\"\"\"\n",
    "# Set it as a series, and obtain the very first entry via numerical index. \n",
    "# You should output \"Physics\""
   ]
  },
  {
   "cell_type": "code",
   "execution_count": 14,
   "id": "64bba745-aef5-4fb6-82b7-8696581de119",
   "metadata": {},
   "outputs": [
    {
     "data": {
      "text/plain": [
       "'Physics'"
      ]
     },
     "execution_count": 14,
     "metadata": {},
     "output_type": "execute_result"
    }
   ],
   "source": [
    "class_code = {\n",
    "    99: \"Physics\",\n",
    "    100: \"Chemistry\",\n",
    "    101: \"English\",\n",
    "    102: \"History\"\n",
    "} \n",
    "\n",
    "s = pd.Series(class_code)\n",
    "s.iloc[0]"
   ]
  },
  {
   "cell_type": "code",
   "execution_count": 16,
   "id": "a09429c0-3f7e-4276-afd1-f8a475f4abaa",
   "metadata": {},
   "outputs": [
    {
     "data": {
      "text/plain": [
       "'\\ngrades = a series with values 90, 80, 70, 60\\n\\ntotal = 0\\nfor grade in grades\\n    total += grade\\nprint(total / len(grades))\\n'"
      ]
     },
     "execution_count": 16,
     "metadata": {},
     "output_type": "execute_result"
    }
   ],
   "source": [
    "# Rewrite the following code using just a pandas Series and numpy \n",
    "\"\"\"\n",
    "grades = a series with values 90, 80, 70, 60\n",
    "\n",
    "total = 0\n",
    "for grade in grades\n",
    "    total += grade\n",
    "print(total / len(grades))\n",
    "\"\"\"\n",
    "# Output should be 75.0"
   ]
  },
  {
   "cell_type": "code",
   "execution_count": 18,
   "id": "688aaf8f-d051-4f19-ad65-3e8cd02d4daf",
   "metadata": {},
   "outputs": [
    {
     "name": "stdout",
     "output_type": "stream",
     "text": [
      "75.0\n"
     ]
    }
   ],
   "source": [
    "import numpy as np\n",
    "grades = pd.Series([90, 80, 70, 60])\n",
    "total = np.sum(grades)\n",
    "print(total / len(grades))"
   ]
  },
  {
   "cell_type": "code",
   "execution_count": 19,
   "id": "86e21014-c91d-4c49-a81c-36d543561b07",
   "metadata": {},
   "outputs": [],
   "source": [
    "# use random and randint to create a series of size 10k \n",
    "# with each entry being between 0 and 1000. \n",
    "# Verify it's size with len and print the first 15 values"
   ]
  },
  {
   "cell_type": "code",
   "execution_count": 21,
   "id": "7b90d0e1-7a5d-45e2-ab67-c7d665344dcf",
   "metadata": {},
   "outputs": [
    {
     "data": {
      "text/plain": [
       "(10000,\n",
       " 0      68\n",
       " 1     995\n",
       " 2     127\n",
       " 3     545\n",
       " 4     946\n",
       " 5     852\n",
       " 6     422\n",
       " 7     601\n",
       " 8     815\n",
       " 9     148\n",
       " 10    741\n",
       " 11    537\n",
       " 12    981\n",
       " 13     47\n",
       " 14    190\n",
       " dtype: int64)"
      ]
     },
     "execution_count": 21,
     "metadata": {},
     "output_type": "execute_result"
    }
   ],
   "source": [
    "numbers = pd.Series(np.random.randint(0, 1000, 10000))\n",
    "len(numbers), numbers.head(15)"
   ]
  },
  {
   "cell_type": "code",
   "execution_count": 26,
   "id": "a286b8f3-b2b7-4f05-99ee-2a9813712e89",
   "metadata": {},
   "outputs": [],
   "source": [
    "# Icrease everything in the series above by 2, use the most effective method possible\n",
    "# QUESTION: Why is this the most effective method"
   ]
  },
  {
   "cell_type": "code",
   "execution_count": 25,
   "id": "4ce5ae5e-b5cc-4d85-99ea-3d8003727949",
   "metadata": {},
   "outputs": [
    {
     "data": {
      "text/plain": [
       "<bound method NDFrame.head of 0         74\n",
       "1       1001\n",
       "2        133\n",
       "3        551\n",
       "4        952\n",
       "        ... \n",
       "9995     178\n",
       "9996     182\n",
       "9997     496\n",
       "9998     739\n",
       "9999     454\n",
       "Length: 10000, dtype: int64>"
      ]
     },
     "execution_count": 25,
     "metadata": {},
     "output_type": "execute_result"
    }
   ],
   "source": [
    "numbers += 2 \n",
    "numbers.head\n",
    "# This is the most effective method because of vectorization. \n",
    "# Numpy makes use of parallelization to add to all values simultaneously,\n",
    "# Instead of iterating through all values. Thanks, GPU!"
   ]
  },
  {
   "cell_type": "code",
   "execution_count": 27,
   "id": "8482630e-7c25-4851-9583-9b3e27da8bb8",
   "metadata": {},
   "outputs": [],
   "source": [
    "# Create a series with 3 integers, and then use loc to add \n",
    "# history, 102"
   ]
  },
  {
   "cell_type": "code",
   "execution_count": 28,
   "id": "87c4d0d2-9327-4b91-9f61-bfccdb7df9d4",
   "metadata": {},
   "outputs": [
    {
     "data": {
      "text/plain": [
       "0            1\n",
       "1            2\n",
       "2            3\n",
       "History    102\n",
       "dtype: int64"
      ]
     },
     "execution_count": 28,
     "metadata": {},
     "output_type": "execute_result"
    }
   ],
   "source": [
    "s = pd.Series([1, 2, 3])\n",
    "s.loc['History'] = 102\n",
    "s"
   ]
  },
  {
   "cell_type": "code",
   "execution_count": null,
   "id": "2dead7dc-6f3d-493a-9238-81993171e443",
   "metadata": {},
   "outputs": [],
   "source": [
    "# Create the following dictionary \n",
    "\"\"\"\n",
    "student_classes = {\n",
    "    'Alice': 'Physics',\n",
    "    'Jack': 'Chemistry',\n",
    "    'Molly': 'English',\n",
    "    'Sam': 'History'\n",
    "}\n",
    "\"\"\"\n",
    "# Turn it into a series \n",
    "# Then, create a second series with 3 entries, all of which have the same index, \"kelly\". \n",
    "# make the values be philosophy, arts, and math. "
   ]
  },
  {
   "cell_type": "code",
   "execution_count": 46,
   "id": "5d052e37-48c3-4173-a45e-0ede8412890f",
   "metadata": {},
   "outputs": [],
   "source": [
    "# student_classes = {\n",
    "#     'Alice': 'Physics',\n",
    "#     'Jack': 'Chemistry',\n",
    "#     'Molly': 'English',\n",
    "#     'Sam': 'History'\n",
    "# }\n",
    "student_classes = pd.Series({\n",
    "    'Alice': 'Physics',\n",
    "    'Jack': 'Chemistry',\n",
    "    'Molly': 'English',\n",
    "    'Sam': 'History'\n",
    "})\n",
    "kelly_classes = pd.Series([\"Philosophy\", \"arts\", \"math\"], index=[\"Kelly\",\"Kelly\",\"Kelly\"])\n"
   ]
  },
  {
   "cell_type": "code",
   "execution_count": 47,
   "id": "7ccf2776-8d13-429b-a094-e59263dc7a77",
   "metadata": {},
   "outputs": [],
   "source": [
    "# Append the kelly series to the student classes series "
   ]
  },
  {
   "cell_type": "code",
   "execution_count": 52,
   "id": "7568d935-b5e3-4f65-9f86-c97aad798923",
   "metadata": {},
   "outputs": [
    {
     "data": {
      "text/plain": [
       "Alice       Physics\n",
       "Jack      Chemistry\n",
       "Molly       English\n",
       "Sam         History\n",
       "Kelly    Philosophy\n",
       "Kelly          arts\n",
       "Kelly          math\n",
       "dtype: object"
      ]
     },
     "execution_count": 52,
     "metadata": {},
     "output_type": "execute_result"
    }
   ],
   "source": [
    "all_student_classes = pd.concat([student_classes, kelly_classes])\n",
    "all_student_classes"
   ]
  },
  {
   "cell_type": "code",
   "execution_count": 53,
   "id": "7ca9fd27-cd3e-4e30-8a69-02eb4032c921",
   "metadata": {},
   "outputs": [
    {
     "data": {
      "text/plain": [
       "Alice      Physics\n",
       "Jack     Chemistry\n",
       "Molly      English\n",
       "Sam        History\n",
       "dtype: object"
      ]
     },
     "execution_count": 53,
     "metadata": {},
     "output_type": "execute_result"
    }
   ],
   "source": [
    " "
   ]
  },
  {
   "cell_type": "code",
   "execution_count": null,
   "id": "6ec4c140-8b61-43fb-83a5-5c1e0abaab2e",
   "metadata": {},
   "outputs": [],
   "source": []
  }
 ],
 "metadata": {
  "kernelspec": {
   "display_name": "Python 3 (ipykernel)",
   "language": "python",
   "name": "python3"
  },
  "language_info": {
   "codemirror_mode": {
    "name": "ipython",
    "version": 3
   },
   "file_extension": ".py",
   "mimetype": "text/x-python",
   "name": "python",
   "nbconvert_exporter": "python",
   "pygments_lexer": "ipython3",
   "version": "3.9.6"
  }
 },
 "nbformat": 4,
 "nbformat_minor": 5
}
