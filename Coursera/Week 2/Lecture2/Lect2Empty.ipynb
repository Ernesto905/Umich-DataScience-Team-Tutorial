{
 "cells": [
  {
   "cell_type": "code",
   "execution_count": 1,
   "id": "ad01a78d-c075-471b-9344-ac7d2da79b34",
   "metadata": {},
   "outputs": [],
   "source": [
    "#Import pandas"
   ]
  },
  {
   "cell_type": "code",
   "execution_count": 1,
   "id": "c64098f2-c88c-403c-9a7c-ad96288461c1",
   "metadata": {},
   "outputs": [],
   "source": [
    "import pandas as pd"
   ]
  },
  {
   "cell_type": "code",
   "execution_count": 2,
   "id": "8652ebe0-5636-439d-add0-d531439ea00e",
   "metadata": {},
   "outputs": [
    {
     "data": {
      "text/plain": [
       "\"\\nstudent_classes {\\n    'Alice': 'Physics',\\n    'Jack': 'Chemistry',\\n    'Molly': 'English',\\n    'Sam': 'History'\\n}\\n\""
      ]
     },
     "execution_count": 2,
     "metadata": {},
     "output_type": "execute_result"
    }
   ],
   "source": [
    "# Create the following dictionary\n",
    "'''\n",
    "student_classes {\n",
    "    'Alice': 'Physics',\n",
    "    'Jack': 'Chemistry',\n",
    "    'Molly': 'English',\n",
    "    'Sam': 'History'\n",
    "}\n",
    "'''\n",
    "# and place it in a pandas series "
   ]
  },
  {
   "cell_type": "code",
   "execution_count": 3,
   "id": "d71d44ac-d974-4d17-9ba7-d400a3ae436a",
   "metadata": {},
   "outputs": [
    {
     "data": {
      "text/plain": [
       "Alice      Physics\n",
       "Jack     Chemistry\n",
       "Molly      English\n",
       "Sam        History\n",
       "dtype: object"
      ]
     },
     "execution_count": 3,
     "metadata": {},
     "output_type": "execute_result"
    }
   ],
   "source": [
    "student_classes = {\n",
    "    'Alice': 'Physics',\n",
    "    'Jack': 'Chemistry',\n",
    "    'Molly': 'English',\n",
    "    'Sam': 'History'\n",
    "}\n",
    "s = pd.Series(student_classes)\n",
    "s"
   ]
  },
  {
   "cell_type": "code",
   "execution_count": 3,
   "id": "d3921c14-b6b7-4550-bc5d-2b7523341165",
   "metadata": {},
   "outputs": [],
   "source": [
    "# index into the fourth entry in the series above, using an integer. You should print 'History'"
   ]
  },
  {
   "cell_type": "code",
   "execution_count": 4,
   "id": "fa0d0edd-c6b3-4499-a079-2d65d8c5f229",
   "metadata": {},
   "outputs": [
    {
     "data": {
      "text/plain": [
       "'History'"
      ]
     },
     "execution_count": 4,
     "metadata": {},
     "output_type": "execute_result"
    }
   ],
   "source": [
    "s.iloc[3]"
   ]
  },
  {
   "cell_type": "code",
   "execution_count": 4,
   "id": "037db5ab-35fa-41d6-8603-3d7d79252322",
   "metadata": {},
   "outputs": [],
   "source": [
    "# index into Molly's attribute (Should be english)"
   ]
  },
  {
   "cell_type": "code",
   "execution_count": 5,
   "id": "70753b2d-0056-44de-b766-d77a77f1263a",
   "metadata": {},
   "outputs": [
    {
     "data": {
      "text/plain": [
       "'English'"
      ]
     },
     "execution_count": 5,
     "metadata": {},
     "output_type": "execute_result"
    }
   ],
   "source": [
    "s.loc[\"Molly\"]"
   ]
  },
  {
   "cell_type": "code",
   "execution_count": 5,
   "id": "396c2486-ab32-468a-bce5-50c2c467dec2",
   "metadata": {},
   "outputs": [
    {
     "data": {
      "text/plain": [
       "'\\nclass_code {\\n    99: \"Physics\",\\n    100: \"Chemistry\",\\n    101: \"English\",\\n    102: \"History\"\\n}\\n'"
      ]
     },
     "execution_count": 5,
     "metadata": {},
     "output_type": "execute_result"
    }
   ],
   "source": [
    "# Create the following dictionary\n",
    "\"\"\"\n",
    "class_code {\n",
    "    99: \"Physics\",\n",
    "    100: \"Chemistry\",\n",
    "    101: \"English\",\n",
    "    102: \"History\"\n",
    "}\n",
    "\"\"\"\n",
    "# Set it as a series, and obtain the very first entry via numerical index. \n",
    "# You should output \"Physics\""
   ]
  },
  {
   "cell_type": "code",
   "execution_count": 6,
   "id": "9a7a559b-f678-4a9e-b0de-6d244d810add",
   "metadata": {},
   "outputs": [
    {
     "data": {
      "text/plain": [
       "'Physics'"
      ]
     },
     "execution_count": 6,
     "metadata": {},
     "output_type": "execute_result"
    }
   ],
   "source": [
    "class_code = {\n",
    "    99: \"Physics\",\n",
    "    100: \"Chemistry\",\n",
    "    101: \"English\",\n",
    "    102: \"History\"\n",
    "}\n",
    "s = pd.Series(class_code)\n",
    "s.iloc[0]"
   ]
  },
  {
   "cell_type": "code",
   "execution_count": 6,
   "id": "f55978cf-0afb-4a17-8ec3-478321edb425",
   "metadata": {},
   "outputs": [
    {
     "data": {
      "text/plain": [
       "'\\ngrades = a series with values 90, 80, 70, 60\\n\\ntotal = 0\\nfor grade in grades\\n    total += grade\\nprint(total / len(grades))\\n'"
      ]
     },
     "execution_count": 6,
     "metadata": {},
     "output_type": "execute_result"
    }
   ],
   "source": [
    "# Rewrite the following code using just a pandas Series and numpy \n",
    "\"\"\"\n",
    "grades = a series with values 90, 80, 70, 60\n",
    "\n",
    "total = 0\n",
    "for grade in grades\n",
    "    total += grade\n",
    "print(total / len(grades))\n",
    "\"\"\"\n",
    "# Output should be 75.0"
   ]
  },
  {
   "cell_type": "code",
   "execution_count": 10,
   "id": "01237882-e8a8-4bd8-9389-d7a2d8d8e083",
   "metadata": {},
   "outputs": [
    {
     "data": {
      "text/plain": [
       "75.0"
      ]
     },
     "execution_count": 10,
     "metadata": {},
     "output_type": "execute_result"
    }
   ],
   "source": [
    "import numpy as np\n",
    "grades = pd.Series([80,90,70,60])\n",
    "total = np.sum(grades)\n",
    "total / len(grades)"
   ]
  },
  {
   "cell_type": "code",
   "execution_count": 7,
   "id": "6ee8edd1-d8f6-4fa7-a7af-68d3dfbed175",
   "metadata": {},
   "outputs": [],
   "source": [
    "# use random and randint to create a series of size 10k \n",
    "# with each entry being between 0 and 1000. \n",
    "# Verify it's size with len and print the first 15 values"
   ]
  },
  {
   "cell_type": "code",
   "execution_count": 22,
   "id": "93788a8b-d588-41e1-a01c-774a0e9bbe43",
   "metadata": {},
   "outputs": [
    {
     "data": {
      "text/plain": [
       "0     419\n",
       "1     768\n",
       "2     843\n",
       "3     305\n",
       "4     378\n",
       "5     701\n",
       "6     650\n",
       "7     949\n",
       "8     281\n",
       "9     506\n",
       "10    635\n",
       "11     62\n",
       "12    847\n",
       "13    568\n",
       "14    705\n",
       "dtype: int64"
      ]
     },
     "execution_count": 22,
     "metadata": {},
     "output_type": "execute_result"
    }
   ],
   "source": [
    "ls = np.random.randint(0,1000,10000)\n",
    "s = pd.Series(ls)\n",
    "s.head(15)"
   ]
  },
  {
   "cell_type": "code",
   "execution_count": 8,
   "id": "563245b2-c679-4579-944d-7f5fa7d26c98",
   "metadata": {},
   "outputs": [],
   "source": [
    "# Icrease everything in the series above by 2, use the most effective method possible\n",
    "# QUESTION: Why is this the most effective method"
   ]
  },
  {
   "cell_type": "code",
   "execution_count": 23,
   "id": "ba69e3cb-7f31-475f-8563-885ed9fa1b39",
   "metadata": {},
   "outputs": [
    {
     "data": {
      "text/plain": [
       "0       421\n",
       "1       770\n",
       "2       845\n",
       "3       307\n",
       "4       380\n",
       "       ... \n",
       "9995    672\n",
       "9996     20\n",
       "9997    733\n",
       "9998    110\n",
       "9999     43\n",
       "Length: 10000, dtype: int64"
      ]
     },
     "execution_count": 23,
     "metadata": {},
     "output_type": "execute_result"
    }
   ],
   "source": [
    "s += 2\n",
    "s"
   ]
  },
  {
   "cell_type": "code",
   "execution_count": 9,
   "id": "92a63f6b-7841-497b-b1ee-315b5356dedd",
   "metadata": {},
   "outputs": [],
   "source": [
    "# Create a series with 3 integers, and then use loc to add \n",
    "# history, 102"
   ]
  },
  {
   "cell_type": "code",
   "execution_count": 24,
   "id": "d27bcd1d-50a5-4291-9960-6efa7c39b4c7",
   "metadata": {},
   "outputs": [
    {
     "data": {
      "text/plain": [
       "0            1\n",
       "1            2\n",
       "2            3\n",
       "history    102\n",
       "dtype: int64"
      ]
     },
     "execution_count": 24,
     "metadata": {},
     "output_type": "execute_result"
    }
   ],
   "source": [
    "s = pd.Series([1,2,3])\n",
    "s.loc[\"history\"] = 102\n",
    "s"
   ]
  },
  {
   "cell_type": "code",
   "execution_count": 10,
   "id": "0eebc88d-02c3-4c08-82a5-bbd1cca1dd67",
   "metadata": {},
   "outputs": [
    {
     "data": {
      "text/plain": [
       "\"\\nstudent_classes = {\\n    'Alice': 'Physics',\\n    'Jack': 'Chemistry',\\n    'Molly': 'English',\\n    'Sam': 'History'\\n}\\n\""
      ]
     },
     "execution_count": 10,
     "metadata": {},
     "output_type": "execute_result"
    }
   ],
   "source": [
    "# Create the following dictionary \n",
    "\"\"\"\n",
    "student_classes = {\n",
    "    'Alice': 'Physics',\n",
    "    'Jack': 'Chemistry',\n",
    "    'Molly': 'English',\n",
    "    'Sam': 'History'\n",
    "}\n",
    "\"\"\"\n",
    "# Turn it into a series \n",
    "# Then, create a second series with 3 entries, all of which have the same index, \"kelly\". \n",
    "# make the values be philosophy, arts, and math. "
   ]
  },
  {
   "cell_type": "code",
   "execution_count": 31,
   "id": "53d0d461-a7b3-4fd0-906c-22aae014a5bd",
   "metadata": {},
   "outputs": [
    {
     "data": {
      "text/plain": [
       "kelly    Philosophy\n",
       "kelly          Arts\n",
       "kelly          math\n",
       "dtype: object"
      ]
     },
     "execution_count": 31,
     "metadata": {},
     "output_type": "execute_result"
    }
   ],
   "source": [
    "student_classes = {\n",
    "    'Alice': 'Physics',\n",
    "    'Jack': 'Chemistry',\n",
    "    'Molly': 'English',\n",
    "    'Sam': 'History'\n",
    "}\n",
    "s = pd.Series(student_classes)\n",
    "kelly = pd.Series([\"Philosophy\", \"Arts\", \"math\"], index=[\"kelly\", \"kelly\", \"kelly\"])\n",
    "kelly"
   ]
  },
  {
   "cell_type": "code",
   "execution_count": 11,
   "id": "ef2956a4-83f7-4dc5-bdbd-10f41e8ea43d",
   "metadata": {},
   "outputs": [],
   "source": [
    "# Append the kelly series to the student classes series "
   ]
  },
  {
   "cell_type": "code",
   "execution_count": 32,
   "id": "069fbe36-c8f2-467e-b965-3c20d6a11450",
   "metadata": {},
   "outputs": [
    {
     "data": {
      "text/plain": [
       "Alice       Physics\n",
       "Jack      Chemistry\n",
       "Molly       English\n",
       "Sam         History\n",
       "kelly    Philosophy\n",
       "kelly          Arts\n",
       "kelly          math\n",
       "dtype: object"
      ]
     },
     "execution_count": 32,
     "metadata": {},
     "output_type": "execute_result"
    }
   ],
   "source": [
    "new = pd.concat([s, kelly])\n",
    "new"
   ]
  },
  {
   "cell_type": "code",
   "execution_count": null,
   "id": "eafc94bb-d31d-4a99-9970-85596f711bf7",
   "metadata": {},
   "outputs": [],
   "source": []
  }
 ],
 "metadata": {
  "kernelspec": {
   "display_name": "Python 3 (ipykernel)",
   "language": "python",
   "name": "python3"
  },
  "language_info": {
   "codemirror_mode": {
    "name": "ipython",
    "version": 3
   },
   "file_extension": ".py",
   "mimetype": "text/x-python",
   "name": "python",
   "nbconvert_exporter": "python",
   "pygments_lexer": "ipython3",
   "version": "3.9.6"
  }
 },
 "nbformat": 4,
 "nbformat_minor": 5
}
